{
 "cells": [
  {
   "cell_type": "code",
   "execution_count": 3,
   "metadata": {},
   "outputs": [
    {
     "name": "stdout",
     "output_type": "stream",
     "text": [
      "\u001b[31mERROR: tensorflow-gpu 2.2.0 has requirement tensorboard<2.3.0,>=2.2.0, but you'll have tensorboard 2.11.2 which is incompatible.\u001b[0m\n",
      "\u001b[31mERROR: tensorflow-gpu 2.2.0 has requirement tensorflow-estimator<2.3.0,>=2.2.0, but you'll have tensorflow-estimator 2.11.0 which is incompatible.\u001b[0m\n",
      "\u001b[31mERROR: kfp 1.8.10 has requirement absl-py<=0.11,>=0.9, but you'll have absl-py 2.1.0 which is incompatible.\u001b[0m\n",
      "\u001b[33m  WARNING: The scripts f2py, f2py3 and f2py3.7 are installed in '/home/jovyan/.local/bin' which is not on PATH.\n",
      "  Consider adding this directory to PATH or, if you prefer to suppress this warning, use --no-warn-script-location.\u001b[0m\n",
      "\u001b[33m  WARNING: The script tensorboard is installed in '/home/jovyan/.local/bin' which is not on PATH.\n",
      "  Consider adding this directory to PATH or, if you prefer to suppress this warning, use --no-warn-script-location.\u001b[0m\n",
      "\u001b[33m  WARNING: The scripts estimator_ckpt_converter, import_pb_to_tensorboard, saved_model_cli, tensorboard, tf_upgrade_v2, tflite_convert, toco and toco_from_protos are installed in '/home/jovyan/.local/bin' which is not on PATH.\n",
      "  Consider adding this directory to PATH or, if you prefer to suppress this warning, use --no-warn-script-location.\u001b[0m\n",
      "Note: you may need to restart the kernel to use updated packages.\n"
     ]
    }
   ],
   "source": [
    "pip install tensorflow==2.11.0 --user -q\n"
   ]
  },
  {
   "cell_type": "code",
   "execution_count": 1,
   "metadata": {},
   "outputs": [
    {
     "name": "stdout",
     "output_type": "stream",
     "text": [
      "TensorFlow version: 2.11.0\n"
     ]
    }
   ],
   "source": [
    "import numpy as np\n",
    "import tensorflow as tf\n",
    "from tensorflow.keras.models import load_model\n",
    "from tensorflow.keras.preprocessing import image\n",
    "from tensorflow.keras.applications.resnet50 import preprocess_input\n",
    "\n",
    "print(f\"TensorFlow version: {tf.__version__}\")\n",
    "assert \"2.11.0\" in tf.__version__, \"This script requires TensorFlow 2.11.0\"\n",
    "\n"
   ]
  },
  {
   "cell_type": "code",
   "execution_count": 6,
   "metadata": {},
   "outputs": [],
   "source": [
    "# Load the model\n",
    "model_path = '/home/jovyan/efs/users/Shreya_Sivakumar/TASK_1/models/model.h5' # Adjust the path as needed\n",
    "model = load_model(model_path)"
   ]
  },
  {
   "cell_type": "code",
   "execution_count": 7,
   "metadata": {},
   "outputs": [],
   "source": [
    "# Load and preprocess an image\n",
    "def load_and_preprocess_image(img_path, target_size=(60, 60)):\n",
    "    img = image.load_img(img_path, target_size=target_size)\n",
    "    img_array = image.img_to_array(img)\n",
    "    img_array_expanded_dims = np.expand_dims(img_array, axis=0)\n",
    "    return preprocess_input(img_array_expanded_dims)"
   ]
  },
  {
   "cell_type": "code",
   "execution_count": null,
   "metadata": {},
   "outputs": [],
   "source": []
  },
  {
   "cell_type": "code",
   "execution_count": 10,
   "metadata": {},
   "outputs": [
    {
     "name": "stdout",
     "output_type": "stream",
     "text": [
      "1/1 [==============================] - 0s 30ms/step\n",
      "Predicted color: Pink\n"
     ]
    }
   ],
   "source": [
    "# Assuming you have an image 'test_image.jpg'\n",
    "img_path = '/home/jovyan/efs/users/Shreya_Sivakumar/TASK_1/data/red.jpeg'\n",
    "preprocessed_img = load_and_preprocess_image(img_path)  \n",
    "\n",
    "# Predict the color\n",
    "predictions = model.predict(preprocessed_img)\n",
    "\n",
    "# Class names list as you defined\n",
    "color_classes = [\n",
    "    \"Purple\", \"Grey\", \"Brown\", \"Navy Blue\", \"Black\", \"Silver\",\n",
    "    \"Green\", \"Orange\", \"White\", \"Blue\", \"Other\", \"Multi\", \"Beige\",\n",
    "    \"Steel\", \"Yellow\", \"Olive\", \"Pink\", \"Gold\", \"Red\", \"Maroon\", \"Cream\",\n",
    "    \"Charcoal\", \"Skin\", \"Grey Melange\", \"Tan\", \"Khaki\", \"Turquoise Blue\",\n",
    "    \"Teal\", \"Mustard\", \"Off White\", \"Burgundy\", \"Magenta\", \"Lavender\",\n",
    "    \"Peach\", \"Copper\", \"Rust\", \"Mauve\", \"Nude\", \"Metallic\", \"Sea Green\",\n",
    "    \"Rose\", \"Fluorescent Green\", \"Bronze\", \"Taupe\", \"Coffee Brown\",\n",
    "    \"Lime Green\", \"Mushroom Brown\"\n",
    "]\n",
    "\n",
    "# Predicted color\n",
    "predicted_color = color_classes[np.argmax(predictions)]\n",
    "\n",
    "print(f'Predicted color: {predicted_color}')"
   ]
  },
  {
   "cell_type": "code",
   "execution_count": null,
   "metadata": {},
   "outputs": [],
   "source": []
  }
 ],
 "metadata": {
  "kernelspec": {
   "display_name": "Python 3",
   "language": "python",
   "name": "python3"
  },
  "language_info": {
   "codemirror_mode": {
    "name": "ipython",
    "version": 3
   },
   "file_extension": ".py",
   "mimetype": "text/x-python",
   "name": "python",
   "nbconvert_exporter": "python",
   "pygments_lexer": "ipython3",
   "version": "3.7.4"
  }
 },
 "nbformat": 4,
 "nbformat_minor": 4
}
